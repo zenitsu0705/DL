{
  "nbformat": 4,
  "nbformat_minor": 0,
  "metadata": {
    "colab": {
      "provenance": [],
      "authorship_tag": "ABX9TyORt3kcmkUU/nxaQ/aK53xb",
      "include_colab_link": true
    },
    "kernelspec": {
      "name": "python3",
      "display_name": "Python 3"
    },
    "language_info": {
      "name": "python"
    }
  },
  "cells": [
    {
      "cell_type": "markdown",
      "metadata": {
        "id": "view-in-github",
        "colab_type": "text"
      },
      "source": [
        "<a href=\"https://colab.research.google.com/github/zenitsu0705/DL/blob/main/week2.ipynb\" target=\"_parent\"><img src=\"https://colab.research.google.com/assets/colab-badge.svg\" alt=\"Open In Colab\"/></a>"
      ]
    },
    {
      "cell_type": "code",
      "source": [
        "from tensorflow.keras.models import load_model\n",
        "from PIL import Image\n",
        "import numpy as np\n",
        "image_height = 128\n",
        "image_width = 128\n",
        "num_channels = 3\n",
        "model = load_model('trained_model_NEW_2_2_Dataset.h5')\n",
        "new_face_path = '/content/hjhhh.jpg'\n",
        "new_face = Image.open(new_face_path)\n",
        "display(new_face)\n",
        "new_face = new_face.resize((image_width, image_height))\n",
        "new_face = np.array(new_face)\n",
        "new_face = np.expand_dims(new_face, axis=0)\n",
        "predictions = model.predict(new_face)\n",
        "predicted_age_group = np.argmax(predictions)\n",
        "print(\"predictions are \",predictions)\n",
        "print(\"Predicted Age Group:\", predicted_age_group)\n",
        "age_mapping = {0: 'YOUNG', 1: 'MIDDLE', 2: 'OLD'}\n",
        "predicted_age_group_label = age_mapping[predicted_age_group]\n",
        "print(\"Predicted Age Group:\", predicted_age_group_label)"
      ],
      "metadata": {
        "id": "lsO35bGE-bWR"
      },
      "execution_count": null,
      "outputs": []
    }
  ]
}