{
  "nbformat": 4,
  "nbformat_minor": 0,
  "metadata": {
    "colab": {
      "provenance": [],
      "authorship_tag": "ABX9TyPfCJhyAKi56zUVhwleEGc4",
      "include_colab_link": true
    },
    "kernelspec": {
      "name": "python3",
      "display_name": "Python 3"
    },
    "language_info": {
      "name": "python"
    }
  },
  "cells": [
    {
      "cell_type": "markdown",
      "metadata": {
        "id": "view-in-github",
        "colab_type": "text"
      },
      "source": [
        "<a href=\"https://colab.research.google.com/github/zenitsu0705/DL/blob/main/week6DL.ipynb\" target=\"_parent\"><img src=\"https://colab.research.google.com/assets/colab-badge.svg\" alt=\"Open In Colab\"/></a>"
      ]
    },
    {
      "cell_type": "code",
      "source": [
        "from google.colab import drive\n",
        "drive.mount('/content.gdrive')\n",
        "!nvidia-smi\n",
        "import os\n",
        "os.environ['PATH'] += ':/usr/local/cuda/bin'\n",
        "!rm -fr darknet\n",
        "!git clone https://github.com/AlexeyAB/darknet\n",
        "!git clone https://github.com/pjreddie/darknet\n",
        "%cd /content/darknet\n",
        "!make\n",
        "!wget https://pjreddie.com/media/files/yolov3.weights\n",
        "!./darknet detect cfg/yolov3.cfg yolov3.weights data/dog.jpg\n",
        "!./darknet detector test cfg/coco.data cfg/yolov3.cfg yolov3.weights data/dog.jpg\n",
        "!./darknet detect cfg/yolov3.cfg yolov3.weights data/horses.jpg\n",
        "!./darknet detect cfg/yolov3.cfg yolov3.weights data/dog.jpg -thresh 0\n",
        "!wget https://pjreddie.com/media/files/yolov3-tiny.weights\n",
        "!./darknet detect cfg/yolov3-tiny.cfg yolov3-tiny.weights data/dog.jpg"
      ],
      "metadata": {
        "id": "AMyyhV4A-1e7"
      },
      "execution_count": null,
      "outputs": []
    }
  ]
}