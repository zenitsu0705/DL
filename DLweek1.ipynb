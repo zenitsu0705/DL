{
  "nbformat": 4,
  "nbformat_minor": 0,
  "metadata": {
    "colab": {
      "provenance": [],
      "authorship_tag": "ABX9TyOZNmXRQVL132hZ251Pgre1",
      "include_colab_link": true
    },
    "kernelspec": {
      "name": "python3",
      "display_name": "Python 3"
    },
    "language_info": {
      "name": "python"
    }
  },
  "cells": [
    {
      "cell_type": "markdown",
      "metadata": {
        "id": "view-in-github",
        "colab_type": "text"
      },
      "source": [
        "<a href=\"https://colab.research.google.com/github/zenitsu0705/DL/blob/main/DLweek1.ipynb\" target=\"_parent\"><img src=\"https://colab.research.google.com/assets/colab-badge.svg\" alt=\"Open In Colab\"/></a>"
      ]
    },
    {
      "cell_type": "code",
      "execution_count": null,
      "metadata": {
        "colab": {
          "base_uri": "https://localhost:8080/"
        },
        "id": "Sux2Lpgt678Z",
        "outputId": "41118c9c-e86a-4b2f-d94b-53adae625206"
      },
      "outputs": [
        {
          "output_type": "stream",
          "name": "stdout",
          "text": [
            "Downloading data from https://storage.googleapis.com/tensorflow/tf-keras-datasets/mnist.npz\n",
            "11490434/11490434 [==============================] - 0s 0us/step\n",
            "Epoch 1/5\n",
            "938/938 [==============================] - 45s 47ms/step - loss: 0.1785 - accuracy: 0.9472\n",
            "Epoch 2/5\n",
            "938/938 [==============================] - 44s 47ms/step - loss: 0.0569 - accuracy: 0.9828\n",
            "Epoch 3/5\n",
            "938/938 [==============================] - 44s 47ms/step - loss: 0.0402 - accuracy: 0.9873\n",
            "Epoch 4/5\n",
            "938/938 [==============================] - 43s 46ms/step - loss: 0.0309 - accuracy: 0.9903\n",
            "Epoch 5/5\n",
            "938/938 [==============================] - 46s 49ms/step - loss: 0.0248 - accuracy: 0.9918\n",
            "313/313 [==============================] - 2s 7ms/step - loss: 0.0322 - accuracy: 0.9889\n",
            "Test accuracy: 0.9889000058174133\n"
          ]
        }
      ],
      "source": [
        "import numpy as np\n",
        "import tensorflow as tf\n",
        "from tensorflow.keras import layers, models\n",
        "from tensorflow.keras.datasets import mnist\n",
        "(train_images, train_labels), (test_images, test_labels) = mnist.load_data()\n",
        "train_images, test_images = train_images / 255.0, test_images / 255.0\n",
        "train_labels = tf.keras.utils.to_categorical(train_labels, 10)\n",
        "test_labels = tf.keras.utils.to_categorical(test_labels, 10)\n",
        "model = models.Sequential()\n",
        "model.add(layers.Conv2D(32, (3, 3), activation='relu', input_shape=(28, 28, 1)))\n",
        "model.add(layers.MaxPooling2D((2, 2)))\n",
        "model.add(layers.Conv2D(64, (3, 3), activation='relu'))\n",
        "model.add(layers.MaxPooling2D((2, 2)))\n",
        "model.add(layers.Flatten())\n",
        "model.add(layers.Dense(64, activation='relu'))\n",
        "model.add(layers.Dense(10, activation='softmax'))\n",
        "model.compile(optimizer='adam', loss='categorical_crossentropy', metrics=['accuracy'])\n",
        "model.fit(train_images.reshape(-1, 28, 28, 1), train_labels, epochs=5, batch_size=64)\n",
        "test_loss, test_accuracy = model.evaluate(test_images.reshape(-1, 28, 28, 1), test_labels)\n",
        "print(\"Test accuracy:\", test_accuracy)"
      ]
    }
  ]
}